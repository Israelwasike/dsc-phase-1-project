{
 "cells": [
  {
   "cell_type": "markdown",
   "metadata": {},
   "source": [
    "## Final Project Submission\n",
    "\n",
    "Please fill out:\n",
    "* Student name: ***Israel Wasike Kahayi***\n",
    "* Student pace: self paced / part time / full time\n",
    "* Scheduled project review date/time: \n",
    "* Instructor name: Samuel Jane\n",
    "* Blog post URL:\n"
   ]
  },
  {
   "cell_type": "markdown",
   "metadata": {},
   "source": [
    "### Business problem\n",
    "Microsoft sees all the big companies creating original video content and they want to get in on the fun. They have decided to create a new movie studio, but they don’t know anything about creating movies. You are charged with exploring what types of films are currently doing the best at the box office. You must then translate those findings into actionable insights that the head of Microsoft's new movie studio can use to help decide what type of films to create."
   ]
  },
  {
   "cell_type": "markdown",
   "metadata": {},
   "source": [
    "### 1. Import necessary libraries:"
   ]
  },
  {
   "cell_type": "code",
   "execution_count": 1,
   "metadata": {},
   "outputs": [],
   "source": [
    "import pandas as pd \n",
    "import numpy as np\n",
    "import matplotlib.pyplot as plt\n",
    "import seaborn as sns"
   ]
  },
  {
   "cell_type": "markdown",
   "metadata": {},
   "source": [
    "### 2. Loading the CSV file:"
   ]
  },
  {
   "cell_type": "code",
   "execution_count": 4,
   "metadata": {},
   "outputs": [],
   "source": [
    "#load IMDB basics data\n",
    "\n",
    "imdb_title_basics = pd.read_csv('title.basics.csv')"
   ]
  },
  {
   "cell_type": "markdown",
   "metadata": {},
   "source": [
    "Now the data is already loaded, the next steps involves inspecting the data, cleaning and performing EDA"
   ]
  },
  {
   "cell_type": "markdown",
   "metadata": {},
   "source": [
    "### Inspecting the data¶\n",
    "\n",
    "Loaded DataFrame is inspected to understand its structure and content"
   ]
  },
  {
   "cell_type": "code",
   "execution_count": 5,
   "metadata": {},
   "outputs": [
    {
     "data": {
      "text/html": [
       "<div>\n",
       "<style scoped>\n",
       "    .dataframe tbody tr th:only-of-type {\n",
       "        vertical-align: middle;\n",
       "    }\n",
       "\n",
       "    .dataframe tbody tr th {\n",
       "        vertical-align: top;\n",
       "    }\n",
       "\n",
       "    .dataframe thead th {\n",
       "        text-align: right;\n",
       "    }\n",
       "</style>\n",
       "<table border=\"1\" class=\"dataframe\">\n",
       "  <thead>\n",
       "    <tr style=\"text-align: right;\">\n",
       "      <th></th>\n",
       "      <th>tconst</th>\n",
       "      <th>primary_title</th>\n",
       "      <th>original_title</th>\n",
       "      <th>start_year</th>\n",
       "      <th>runtime_minutes</th>\n",
       "      <th>genres</th>\n",
       "    </tr>\n",
       "  </thead>\n",
       "  <tbody>\n",
       "    <tr>\n",
       "      <th>0</th>\n",
       "      <td>tt0063540</td>\n",
       "      <td>Sunghursh</td>\n",
       "      <td>Sunghursh</td>\n",
       "      <td>2013</td>\n",
       "      <td>175.0</td>\n",
       "      <td>Action,Crime,Drama</td>\n",
       "    </tr>\n",
       "    <tr>\n",
       "      <th>1</th>\n",
       "      <td>tt0066787</td>\n",
       "      <td>One Day Before the Rainy Season</td>\n",
       "      <td>Ashad Ka Ek Din</td>\n",
       "      <td>2019</td>\n",
       "      <td>114.0</td>\n",
       "      <td>Biography,Drama</td>\n",
       "    </tr>\n",
       "    <tr>\n",
       "      <th>2</th>\n",
       "      <td>tt0069049</td>\n",
       "      <td>The Other Side of the Wind</td>\n",
       "      <td>The Other Side of the Wind</td>\n",
       "      <td>2018</td>\n",
       "      <td>122.0</td>\n",
       "      <td>Drama</td>\n",
       "    </tr>\n",
       "    <tr>\n",
       "      <th>3</th>\n",
       "      <td>tt0069204</td>\n",
       "      <td>Sabse Bada Sukh</td>\n",
       "      <td>Sabse Bada Sukh</td>\n",
       "      <td>2018</td>\n",
       "      <td>NaN</td>\n",
       "      <td>Comedy,Drama</td>\n",
       "    </tr>\n",
       "    <tr>\n",
       "      <th>4</th>\n",
       "      <td>tt0100275</td>\n",
       "      <td>The Wandering Soap Opera</td>\n",
       "      <td>La Telenovela Errante</td>\n",
       "      <td>2017</td>\n",
       "      <td>80.0</td>\n",
       "      <td>Comedy,Drama,Fantasy</td>\n",
       "    </tr>\n",
       "  </tbody>\n",
       "</table>\n",
       "</div>"
      ],
      "text/plain": [
       "      tconst                    primary_title              original_title  \\\n",
       "0  tt0063540                        Sunghursh                   Sunghursh   \n",
       "1  tt0066787  One Day Before the Rainy Season             Ashad Ka Ek Din   \n",
       "2  tt0069049       The Other Side of the Wind  The Other Side of the Wind   \n",
       "3  tt0069204                  Sabse Bada Sukh             Sabse Bada Sukh   \n",
       "4  tt0100275         The Wandering Soap Opera       La Telenovela Errante   \n",
       "\n",
       "   start_year  runtime_minutes                genres  \n",
       "0        2013            175.0    Action,Crime,Drama  \n",
       "1        2019            114.0       Biography,Drama  \n",
       "2        2018            122.0                 Drama  \n",
       "3        2018              NaN          Comedy,Drama  \n",
       "4        2017             80.0  Comedy,Drama,Fantasy  "
      ]
     },
     "execution_count": 5,
     "metadata": {},
     "output_type": "execute_result"
    }
   ],
   "source": [
    "# inspect the loaded data\n",
    "# inspecting the first few rows of the title basic data frame\n",
    "imdb_title_basics.head()"
   ]
  },
  {
   "cell_type": "markdown",
   "metadata": {},
   "source": [
    "Displaying summary statistics for the dataframe"
   ]
  },
  {
   "cell_type": "code",
   "execution_count": 6,
   "metadata": {},
   "outputs": [
    {
     "name": "stdout",
     "output_type": "stream",
     "text": [
      "<class 'pandas.core.frame.DataFrame'>\n",
      "RangeIndex: 146144 entries, 0 to 146143\n",
      "Data columns (total 6 columns):\n",
      " #   Column           Non-Null Count   Dtype  \n",
      "---  ------           --------------   -----  \n",
      " 0   tconst           146144 non-null  object \n",
      " 1   primary_title    146144 non-null  object \n",
      " 2   original_title   146123 non-null  object \n",
      " 3   start_year       146144 non-null  int64  \n",
      " 4   runtime_minutes  114405 non-null  float64\n",
      " 5   genres           140736 non-null  object \n",
      "dtypes: float64(1), int64(1), object(4)\n",
      "memory usage: 6.7+ MB\n",
      "None \n",
      "\n"
     ]
    }
   ],
   "source": [
    "print(imdb_title_basics.info(), \"\\n\")"
   ]
  },
  {
   "cell_type": "markdown",
   "metadata": {},
   "source": [
    "### Checking for duplicate rows\n",
    "\n",
    "To check for duplicate rows in a pandas DataFrame, the .duplicated() method is used. Here's how the method is applied to identify and handle duplicate rows in the DataFrame."
   ]
  },
  {
   "cell_type": "code",
   "execution_count": 7,
   "metadata": {},
   "outputs": [
    {
     "name": "stdout",
     "output_type": "stream",
     "text": [
      "Number of duplicate rows in imdb_title_basics is: 0 \n",
      "\n"
     ]
    }
   ],
   "source": [
    "# checking whether there are duplicates in the dataframe\n",
    "print(\"Number of duplicate rows in imdb_title_basics is:\",imdb_title_basics.duplicated().sum(),\"\\n\")\n"
   ]
  },
  {
   "cell_type": "markdown",
   "metadata": {},
   "source": [
    "### Check for duplicate columns"
   ]
  },
  {
   "cell_type": "code",
   "execution_count": 8,
   "metadata": {},
   "outputs": [
    {
     "name": "stdout",
     "output_type": "stream",
     "text": [
      "Number of duplicate columns in imdb_title_basics : 0\n"
     ]
    }
   ],
   "source": [
    "#similar to checking for duplicate rows, the same method will be employed here:\n",
    "# '.duplicated()' method will be used.\n",
    "\n",
    "# For imdb_title_basics\n",
    "imdbbasics_duplicate_columns = imdb_title_basics.columns.duplicated().sum()\n",
    "print(\"Number of duplicate columns in imdb_title_basics :\", imdbbasics_duplicate_columns)\n",
    "\n"
   ]
  },
  {
   "cell_type": "markdown",
   "metadata": {},
   "source": [
    "### Shape of the DataFrame"
   ]
  },
  {
   "cell_type": "code",
   "execution_count": 9,
   "metadata": {},
   "outputs": [
    {
     "name": "stdout",
     "output_type": "stream",
     "text": [
      "Shape of imdb_title_basics:\n",
      "(146144, 6) \n",
      "\n"
     ]
    }
   ],
   "source": [
    "dataframe_name = 'imdb_title_basics'\n",
    "\n",
    "print(f\"Shape of {dataframe_name}:\")\n",
    "print(imdb_title_basics.shape, \"\\n\")\n"
   ]
  },
  {
   "cell_type": "markdown",
   "metadata": {},
   "source": [
    "### Checking for missing values in the DataFrames\n",
    "\n",
    "When checking for any missing values in a dataframe, the .isnull().\n",
    ".isnull() is a method used for checking missing values in a dataframe not a function.\n",
    "missung values/ null values are denoted by NaN which means not a number"
   ]
  },
  {
   "cell_type": "code",
   "execution_count": 10,
   "metadata": {},
   "outputs": [
    {
     "name": "stdout",
     "output_type": "stream",
     "text": [
      "missing values in imdb title basic:\n",
      "tconst                 0\n",
      "primary_title          0\n",
      "original_title        21\n",
      "start_year             0\n",
      "runtime_minutes    31739\n",
      "genres              5408\n",
      "dtype: int64 \n",
      "\n"
     ]
    }
   ],
   "source": [
    "# .isnull() checks for any missing values and returns a boolean true or false\n",
    "# where true = the missing value and false = no missing value. \n",
    "#but in this case, i want to know the total number of missing values in every colum, thats where .sum() is used.\n",
    "#.sum() adds all the boolean(true) and guves out a number eg. 5, 10, 12674...\n",
    "\n",
    "missing_values = imdb_title_basics.isnull().sum()\n",
    "print('missing values in imdb title basic:')\n",
    "print(missing_values,\"\\n\")\n",
    "\n",
    "\n",
    "#the output below shows the missing values\n",
    "#where 0 = no missing values \n",
    "# where a number eg.3179 = the number of missing value in certain columns of the data sets. \n",
    "# some of our missing values are strings and others are integers"
   ]
  },
  {
   "cell_type": "markdown",
   "metadata": {},
   "source": [
    "### Filling the null/ missing values in the dataframe\n",
    "\n",
    "Filling null values can be done in various ways. Null values of a certain column can be filled with the mean, max or min of the column else can be filled with any random values.This is used for columns that has numbers/ interger values.\n",
    "Sometimes the column with missing values has strings.\n",
    "\n",
    "#### 1. filling missing values in imdb_title_basics dataframe"
   ]
  },
  {
   "cell_type": "code",
   "execution_count": 11,
   "metadata": {},
   "outputs": [
    {
     "data": {
      "text/html": [
       "<div>\n",
       "<style scoped>\n",
       "    .dataframe tbody tr th:only-of-type {\n",
       "        vertical-align: middle;\n",
       "    }\n",
       "\n",
       "    .dataframe tbody tr th {\n",
       "        vertical-align: top;\n",
       "    }\n",
       "\n",
       "    .dataframe thead th {\n",
       "        text-align: right;\n",
       "    }\n",
       "</style>\n",
       "<table border=\"1\" class=\"dataframe\">\n",
       "  <thead>\n",
       "    <tr style=\"text-align: right;\">\n",
       "      <th></th>\n",
       "      <th>tconst</th>\n",
       "      <th>primary_title</th>\n",
       "      <th>original_title</th>\n",
       "      <th>start_year</th>\n",
       "      <th>runtime_minutes</th>\n",
       "      <th>genres</th>\n",
       "    </tr>\n",
       "  </thead>\n",
       "  <tbody>\n",
       "    <tr>\n",
       "      <th>0</th>\n",
       "      <td>tt0063540</td>\n",
       "      <td>Sunghursh</td>\n",
       "      <td>Sunghursh</td>\n",
       "      <td>2013</td>\n",
       "      <td>175.0</td>\n",
       "      <td>Action,Crime,Drama</td>\n",
       "    </tr>\n",
       "    <tr>\n",
       "      <th>1</th>\n",
       "      <td>tt0066787</td>\n",
       "      <td>One Day Before the Rainy Season</td>\n",
       "      <td>Ashad Ka Ek Din</td>\n",
       "      <td>2019</td>\n",
       "      <td>114.0</td>\n",
       "      <td>Biography,Drama</td>\n",
       "    </tr>\n",
       "    <tr>\n",
       "      <th>2</th>\n",
       "      <td>tt0069049</td>\n",
       "      <td>The Other Side of the Wind</td>\n",
       "      <td>The Other Side of the Wind</td>\n",
       "      <td>2018</td>\n",
       "      <td>122.0</td>\n",
       "      <td>Drama</td>\n",
       "    </tr>\n",
       "    <tr>\n",
       "      <th>3</th>\n",
       "      <td>tt0069204</td>\n",
       "      <td>Sabse Bada Sukh</td>\n",
       "      <td>Sabse Bada Sukh</td>\n",
       "      <td>2018</td>\n",
       "      <td>87.0</td>\n",
       "      <td>Comedy,Drama</td>\n",
       "    </tr>\n",
       "    <tr>\n",
       "      <th>4</th>\n",
       "      <td>tt0100275</td>\n",
       "      <td>The Wandering Soap Opera</td>\n",
       "      <td>La Telenovela Errante</td>\n",
       "      <td>2017</td>\n",
       "      <td>80.0</td>\n",
       "      <td>Comedy,Drama,Fantasy</td>\n",
       "    </tr>\n",
       "    <tr>\n",
       "      <th>...</th>\n",
       "      <td>...</td>\n",
       "      <td>...</td>\n",
       "      <td>...</td>\n",
       "      <td>...</td>\n",
       "      <td>...</td>\n",
       "      <td>...</td>\n",
       "    </tr>\n",
       "    <tr>\n",
       "      <th>146139</th>\n",
       "      <td>tt9916538</td>\n",
       "      <td>Kuambil Lagi Hatiku</td>\n",
       "      <td>Kuambil Lagi Hatiku</td>\n",
       "      <td>2019</td>\n",
       "      <td>123.0</td>\n",
       "      <td>Drama</td>\n",
       "    </tr>\n",
       "    <tr>\n",
       "      <th>146140</th>\n",
       "      <td>tt9916622</td>\n",
       "      <td>Rodolpho Teóphilo - O Legado de um Pioneiro</td>\n",
       "      <td>Rodolpho Teóphilo - O Legado de um Pioneiro</td>\n",
       "      <td>2015</td>\n",
       "      <td>87.0</td>\n",
       "      <td>Documentary</td>\n",
       "    </tr>\n",
       "    <tr>\n",
       "      <th>146141</th>\n",
       "      <td>tt9916706</td>\n",
       "      <td>Dankyavar Danka</td>\n",
       "      <td>Dankyavar Danka</td>\n",
       "      <td>2013</td>\n",
       "      <td>87.0</td>\n",
       "      <td>Comedy</td>\n",
       "    </tr>\n",
       "    <tr>\n",
       "      <th>146142</th>\n",
       "      <td>tt9916730</td>\n",
       "      <td>6 Gunn</td>\n",
       "      <td>6 Gunn</td>\n",
       "      <td>2017</td>\n",
       "      <td>116.0</td>\n",
       "      <td>NaN</td>\n",
       "    </tr>\n",
       "    <tr>\n",
       "      <th>146143</th>\n",
       "      <td>tt9916754</td>\n",
       "      <td>Chico Albuquerque - Revelações</td>\n",
       "      <td>Chico Albuquerque - Revelações</td>\n",
       "      <td>2013</td>\n",
       "      <td>87.0</td>\n",
       "      <td>Documentary</td>\n",
       "    </tr>\n",
       "  </tbody>\n",
       "</table>\n",
       "<p>146144 rows × 6 columns</p>\n",
       "</div>"
      ],
      "text/plain": [
       "           tconst                                primary_title  \\\n",
       "0       tt0063540                                    Sunghursh   \n",
       "1       tt0066787              One Day Before the Rainy Season   \n",
       "2       tt0069049                   The Other Side of the Wind   \n",
       "3       tt0069204                              Sabse Bada Sukh   \n",
       "4       tt0100275                     The Wandering Soap Opera   \n",
       "...           ...                                          ...   \n",
       "146139  tt9916538                          Kuambil Lagi Hatiku   \n",
       "146140  tt9916622  Rodolpho Teóphilo - O Legado de um Pioneiro   \n",
       "146141  tt9916706                              Dankyavar Danka   \n",
       "146142  tt9916730                                       6 Gunn   \n",
       "146143  tt9916754               Chico Albuquerque - Revelações   \n",
       "\n",
       "                                     original_title  start_year  \\\n",
       "0                                         Sunghursh        2013   \n",
       "1                                   Ashad Ka Ek Din        2019   \n",
       "2                        The Other Side of the Wind        2018   \n",
       "3                                   Sabse Bada Sukh        2018   \n",
       "4                             La Telenovela Errante        2017   \n",
       "...                                             ...         ...   \n",
       "146139                          Kuambil Lagi Hatiku        2019   \n",
       "146140  Rodolpho Teóphilo - O Legado de um Pioneiro        2015   \n",
       "146141                              Dankyavar Danka        2013   \n",
       "146142                                       6 Gunn        2017   \n",
       "146143               Chico Albuquerque - Revelações        2013   \n",
       "\n",
       "        runtime_minutes                genres  \n",
       "0                 175.0    Action,Crime,Drama  \n",
       "1                 114.0       Biography,Drama  \n",
       "2                 122.0                 Drama  \n",
       "3                  87.0          Comedy,Drama  \n",
       "4                  80.0  Comedy,Drama,Fantasy  \n",
       "...                 ...                   ...  \n",
       "146139            123.0                 Drama  \n",
       "146140             87.0           Documentary  \n",
       "146141             87.0                Comedy  \n",
       "146142            116.0                   NaN  \n",
       "146143             87.0           Documentary  \n",
       "\n",
       "[146144 rows x 6 columns]"
      ]
     },
     "execution_count": 11,
     "metadata": {},
     "output_type": "execute_result"
    }
   ],
   "source": [
    "# filling missing values for imdb title basics \n",
    "# filling missing values in the runtime column with the median of the column \n",
    "# median of the runtime_minutes column\n",
    "runtime_minutes_median = imdb_title_basics['runtime_minutes'].median()\n",
    "\n",
    "# Fill the missing values in the 'runtime_minutes' column with the median \n",
    "imdb_title_basics['runtime_minutes'] = imdb_title_basics['runtime_minutes'].fillna(runtime_minutes_median)\n",
    "imdb_title_basics"
   ]
  },
  {
   "cell_type": "code",
   "execution_count": 12,
   "metadata": {},
   "outputs": [],
   "source": [
    "# filling different null values in the \"original title\" and \"genres\" columns\n",
    "# Filling missing values in 'original_title' column with 'unknown'\n",
    "imdb_title_basics['original_title'] = imdb_title_basics['original_title'].fillna('unknown')\n",
    "\n",
    "# Fill missing values in 'genres' column with 'unknown'\n",
    "imdb_title_basics['genres'] = imdb_title_basics['genres'].fillna('unknown')"
   ]
  },
  {
   "cell_type": "markdown",
   "metadata": {},
   "source": [
    "Checking for missing values again, this is to make sure the dataframe has no missing values"
   ]
  },
  {
   "cell_type": "code",
   "execution_count": 13,
   "metadata": {},
   "outputs": [
    {
     "name": "stdout",
     "output_type": "stream",
     "text": [
      "Missing values in imdb title basics:\n",
      "tconst             0\n",
      "primary_title      0\n",
      "original_title     0\n",
      "start_year         0\n",
      "runtime_minutes    0\n",
      "genres             0\n",
      "dtype: int64\n"
     ]
    }
   ],
   "source": [
    "#check for missing values again\n",
    "# if it retuens a value count of: 0 = no missing value\n",
    "# else if it returns a value count of any number = number of missing values\n",
    "\n",
    "missing_values = imdb_title_basics.isnull().sum()\n",
    "print(\"Missing values in imdb title basics:\")\n",
    "print(missing_values)\n",
    "\n",
    "# there are no missing values in imdb_title_basics dataframe.\n",
    "# the missing vales were in the 'runtime_minutes', 'genre, and 'original_title' columns are seen in the above cell"
   ]
  },
  {
   "cell_type": "code",
   "execution_count": 14,
   "metadata": {},
   "outputs": [
    {
     "data": {
      "text/html": [
       "<div>\n",
       "<style scoped>\n",
       "    .dataframe tbody tr th:only-of-type {\n",
       "        vertical-align: middle;\n",
       "    }\n",
       "\n",
       "    .dataframe tbody tr th {\n",
       "        vertical-align: top;\n",
       "    }\n",
       "\n",
       "    .dataframe thead th {\n",
       "        text-align: right;\n",
       "    }\n",
       "</style>\n",
       "<table border=\"1\" class=\"dataframe\">\n",
       "  <thead>\n",
       "    <tr style=\"text-align: right;\">\n",
       "      <th></th>\n",
       "      <th>tconst</th>\n",
       "      <th>primary_title</th>\n",
       "      <th>original_title</th>\n",
       "      <th>start_year</th>\n",
       "      <th>runtime_minutes</th>\n",
       "      <th>genres</th>\n",
       "    </tr>\n",
       "  </thead>\n",
       "  <tbody>\n",
       "    <tr>\n",
       "      <th>0</th>\n",
       "      <td>tt0063540</td>\n",
       "      <td>Sunghursh</td>\n",
       "      <td>Sunghursh</td>\n",
       "      <td>2013</td>\n",
       "      <td>175.0</td>\n",
       "      <td>Action,Crime,Drama</td>\n",
       "    </tr>\n",
       "    <tr>\n",
       "      <th>1</th>\n",
       "      <td>tt0066787</td>\n",
       "      <td>One Day Before the Rainy Season</td>\n",
       "      <td>Ashad Ka Ek Din</td>\n",
       "      <td>2019</td>\n",
       "      <td>114.0</td>\n",
       "      <td>Biography,Drama</td>\n",
       "    </tr>\n",
       "    <tr>\n",
       "      <th>2</th>\n",
       "      <td>tt0069049</td>\n",
       "      <td>The Other Side of the Wind</td>\n",
       "      <td>The Other Side of the Wind</td>\n",
       "      <td>2018</td>\n",
       "      <td>122.0</td>\n",
       "      <td>Drama</td>\n",
       "    </tr>\n",
       "    <tr>\n",
       "      <th>3</th>\n",
       "      <td>tt0069204</td>\n",
       "      <td>Sabse Bada Sukh</td>\n",
       "      <td>Sabse Bada Sukh</td>\n",
       "      <td>2018</td>\n",
       "      <td>87.0</td>\n",
       "      <td>Comedy,Drama</td>\n",
       "    </tr>\n",
       "    <tr>\n",
       "      <th>4</th>\n",
       "      <td>tt0100275</td>\n",
       "      <td>The Wandering Soap Opera</td>\n",
       "      <td>La Telenovela Errante</td>\n",
       "      <td>2017</td>\n",
       "      <td>80.0</td>\n",
       "      <td>Comedy,Drama,Fantasy</td>\n",
       "    </tr>\n",
       "    <tr>\n",
       "      <th>...</th>\n",
       "      <td>...</td>\n",
       "      <td>...</td>\n",
       "      <td>...</td>\n",
       "      <td>...</td>\n",
       "      <td>...</td>\n",
       "      <td>...</td>\n",
       "    </tr>\n",
       "    <tr>\n",
       "      <th>146139</th>\n",
       "      <td>tt9916538</td>\n",
       "      <td>Kuambil Lagi Hatiku</td>\n",
       "      <td>Kuambil Lagi Hatiku</td>\n",
       "      <td>2019</td>\n",
       "      <td>123.0</td>\n",
       "      <td>Drama</td>\n",
       "    </tr>\n",
       "    <tr>\n",
       "      <th>146140</th>\n",
       "      <td>tt9916622</td>\n",
       "      <td>Rodolpho Teóphilo - O Legado de um Pioneiro</td>\n",
       "      <td>Rodolpho Teóphilo - O Legado de um Pioneiro</td>\n",
       "      <td>2015</td>\n",
       "      <td>87.0</td>\n",
       "      <td>Documentary</td>\n",
       "    </tr>\n",
       "    <tr>\n",
       "      <th>146141</th>\n",
       "      <td>tt9916706</td>\n",
       "      <td>Dankyavar Danka</td>\n",
       "      <td>Dankyavar Danka</td>\n",
       "      <td>2013</td>\n",
       "      <td>87.0</td>\n",
       "      <td>Comedy</td>\n",
       "    </tr>\n",
       "    <tr>\n",
       "      <th>146142</th>\n",
       "      <td>tt9916730</td>\n",
       "      <td>6 Gunn</td>\n",
       "      <td>6 Gunn</td>\n",
       "      <td>2017</td>\n",
       "      <td>116.0</td>\n",
       "      <td>unknown</td>\n",
       "    </tr>\n",
       "    <tr>\n",
       "      <th>146143</th>\n",
       "      <td>tt9916754</td>\n",
       "      <td>Chico Albuquerque - Revelações</td>\n",
       "      <td>Chico Albuquerque - Revelações</td>\n",
       "      <td>2013</td>\n",
       "      <td>87.0</td>\n",
       "      <td>Documentary</td>\n",
       "    </tr>\n",
       "  </tbody>\n",
       "</table>\n",
       "<p>146144 rows × 6 columns</p>\n",
       "</div>"
      ],
      "text/plain": [
       "           tconst                                primary_title  \\\n",
       "0       tt0063540                                    Sunghursh   \n",
       "1       tt0066787              One Day Before the Rainy Season   \n",
       "2       tt0069049                   The Other Side of the Wind   \n",
       "3       tt0069204                              Sabse Bada Sukh   \n",
       "4       tt0100275                     The Wandering Soap Opera   \n",
       "...           ...                                          ...   \n",
       "146139  tt9916538                          Kuambil Lagi Hatiku   \n",
       "146140  tt9916622  Rodolpho Teóphilo - O Legado de um Pioneiro   \n",
       "146141  tt9916706                              Dankyavar Danka   \n",
       "146142  tt9916730                                       6 Gunn   \n",
       "146143  tt9916754               Chico Albuquerque - Revelações   \n",
       "\n",
       "                                     original_title  start_year  \\\n",
       "0                                         Sunghursh        2013   \n",
       "1                                   Ashad Ka Ek Din        2019   \n",
       "2                        The Other Side of the Wind        2018   \n",
       "3                                   Sabse Bada Sukh        2018   \n",
       "4                             La Telenovela Errante        2017   \n",
       "...                                             ...         ...   \n",
       "146139                          Kuambil Lagi Hatiku        2019   \n",
       "146140  Rodolpho Teóphilo - O Legado de um Pioneiro        2015   \n",
       "146141                              Dankyavar Danka        2013   \n",
       "146142                                       6 Gunn        2017   \n",
       "146143               Chico Albuquerque - Revelações        2013   \n",
       "\n",
       "        runtime_minutes                genres  \n",
       "0                 175.0    Action,Crime,Drama  \n",
       "1                 114.0       Biography,Drama  \n",
       "2                 122.0                 Drama  \n",
       "3                  87.0          Comedy,Drama  \n",
       "4                  80.0  Comedy,Drama,Fantasy  \n",
       "...                 ...                   ...  \n",
       "146139            123.0                 Drama  \n",
       "146140             87.0           Documentary  \n",
       "146141             87.0                Comedy  \n",
       "146142            116.0               unknown  \n",
       "146143             87.0           Documentary  \n",
       "\n",
       "[146144 rows x 6 columns]"
      ]
     },
     "execution_count": 14,
     "metadata": {},
     "output_type": "execute_result"
    }
   ],
   "source": [
    "imdb_title_basics "
   ]
  },
  {
   "cell_type": "markdown",
   "metadata": {},
   "source": [
    "### Descriptive satistics"
   ]
  },
  {
   "cell_type": "code",
   "execution_count": 15,
   "metadata": {},
   "outputs": [
    {
     "data": {
      "text/html": [
       "<div>\n",
       "<style scoped>\n",
       "    .dataframe tbody tr th:only-of-type {\n",
       "        vertical-align: middle;\n",
       "    }\n",
       "\n",
       "    .dataframe tbody tr th {\n",
       "        vertical-align: top;\n",
       "    }\n",
       "\n",
       "    .dataframe thead th {\n",
       "        text-align: right;\n",
       "    }\n",
       "</style>\n",
       "<table border=\"1\" class=\"dataframe\">\n",
       "  <thead>\n",
       "    <tr style=\"text-align: right;\">\n",
       "      <th></th>\n",
       "      <th>count</th>\n",
       "      <th>mean</th>\n",
       "      <th>std</th>\n",
       "      <th>min</th>\n",
       "      <th>25%</th>\n",
       "      <th>50%</th>\n",
       "      <th>75%</th>\n",
       "      <th>max</th>\n",
       "    </tr>\n",
       "  </thead>\n",
       "  <tbody>\n",
       "    <tr>\n",
       "      <th>start_year</th>\n",
       "      <td>146144.0</td>\n",
       "      <td>2014.621798</td>\n",
       "      <td>2.733583</td>\n",
       "      <td>2010.0</td>\n",
       "      <td>2012.0</td>\n",
       "      <td>2015.0</td>\n",
       "      <td>2017.0</td>\n",
       "      <td>2115.0</td>\n",
       "    </tr>\n",
       "    <tr>\n",
       "      <th>runtime_minutes</th>\n",
       "      <td>146144.0</td>\n",
       "      <td>86.363758</td>\n",
       "      <td>147.191650</td>\n",
       "      <td>1.0</td>\n",
       "      <td>75.0</td>\n",
       "      <td>87.0</td>\n",
       "      <td>95.0</td>\n",
       "      <td>51420.0</td>\n",
       "    </tr>\n",
       "  </tbody>\n",
       "</table>\n",
       "</div>"
      ],
      "text/plain": [
       "                    count         mean         std     min     25%     50%  \\\n",
       "start_year       146144.0  2014.621798    2.733583  2010.0  2012.0  2015.0   \n",
       "runtime_minutes  146144.0    86.363758  147.191650     1.0    75.0    87.0   \n",
       "\n",
       "                    75%      max  \n",
       "start_year       2017.0   2115.0  \n",
       "runtime_minutes    95.0  51420.0  "
      ]
     },
     "execution_count": 15,
     "metadata": {},
     "output_type": "execute_result"
    }
   ],
   "source": [
    "imdb_title_basics.describe().T#.T is used to transpose the data frame"
   ]
  },
  {
   "cell_type": "code",
   "execution_count": 16,
   "metadata": {},
   "outputs": [
    {
     "data": {
      "text/html": [
       "<div>\n",
       "<style scoped>\n",
       "    .dataframe tbody tr th:only-of-type {\n",
       "        vertical-align: middle;\n",
       "    }\n",
       "\n",
       "    .dataframe tbody tr th {\n",
       "        vertical-align: top;\n",
       "    }\n",
       "\n",
       "    .dataframe thead th {\n",
       "        text-align: right;\n",
       "    }\n",
       "</style>\n",
       "<table border=\"1\" class=\"dataframe\">\n",
       "  <thead>\n",
       "    <tr style=\"text-align: right;\">\n",
       "      <th></th>\n",
       "      <th>tconst</th>\n",
       "      <th>primary_title</th>\n",
       "      <th>original_title</th>\n",
       "      <th>genres</th>\n",
       "    </tr>\n",
       "  </thead>\n",
       "  <tbody>\n",
       "    <tr>\n",
       "      <th>count</th>\n",
       "      <td>146144</td>\n",
       "      <td>146144</td>\n",
       "      <td>146144</td>\n",
       "      <td>146144</td>\n",
       "    </tr>\n",
       "    <tr>\n",
       "      <th>unique</th>\n",
       "      <td>146144</td>\n",
       "      <td>136071</td>\n",
       "      <td>137774</td>\n",
       "      <td>1086</td>\n",
       "    </tr>\n",
       "    <tr>\n",
       "      <th>top</th>\n",
       "      <td>tt10214540</td>\n",
       "      <td>Home</td>\n",
       "      <td>unknown</td>\n",
       "      <td>Documentary</td>\n",
       "    </tr>\n",
       "    <tr>\n",
       "      <th>freq</th>\n",
       "      <td>1</td>\n",
       "      <td>24</td>\n",
       "      <td>21</td>\n",
       "      <td>32185</td>\n",
       "    </tr>\n",
       "  </tbody>\n",
       "</table>\n",
       "</div>"
      ],
      "text/plain": [
       "            tconst primary_title original_title       genres\n",
       "count       146144        146144         146144       146144\n",
       "unique      146144        136071         137774         1086\n",
       "top     tt10214540          Home        unknown  Documentary\n",
       "freq             1            24             21        32185"
      ]
     },
     "execution_count": 16,
     "metadata": {},
     "output_type": "execute_result"
    }
   ],
   "source": [
    "imdb_title_basics.describe(include = object)"
   ]
  },
  {
   "cell_type": "markdown",
   "metadata": {},
   "source": [
    "in the above info, it is seen that in the primary_title column there are 136,071 unique values, in the original title there 137,774 unique values and in the genres column there are 1,086 unique values"
   ]
  },
  {
   "cell_type": "markdown",
   "metadata": {},
   "source": [
    "### Identifying movies with long, short and mid-length runtime"
   ]
  },
  {
   "cell_type": "code",
   "execution_count": 17,
   "metadata": {},
   "outputs": [
    {
     "name": "stdout",
     "output_type": "stream",
     "text": [
      "SHORT MOVIES, 60 MINUTES & BELOW:\n",
      "                                        primary_title  runtime_minutes\n",
      "24                                  Akakis mogzauroba             44.0\n",
      "25                           Seven Jews from My Class             40.0\n",
      "28               Prague: The Restless Heart of Europe             59.0\n",
      "29                                  Short Time Heroes             45.0\n",
      "37             Quantum Quest: A Cassini Space Odyssey             45.0\n",
      "...                                               ...              ...\n",
      "146066                                        Yolanda             58.0\n",
      "146075  Keukenhof Gardens and the Dutch Flower Parade             51.0\n",
      "146100        Diseño de Sonido para Cine en Argentina             54.0\n",
      "146116                               Nepal - Homebird             52.0\n",
      "146135                                  The Rehearsal             51.0\n",
      "\n",
      "[19186 rows x 2 columns] \n",
      "\n",
      "LONG MOVIES, 100 MINUTES & ABOVE:\n",
      "                             primary_title  runtime_minutes\n",
      "0                                Sunghursh            175.0\n",
      "1          One Day Before the Rainy Season            114.0\n",
      "2               The Other Side of the Wind            122.0\n",
      "10                             Pál Adrienn            136.0\n",
      "12      Cooper and Hemingway: The True Gen            180.0\n",
      "...                                    ...              ...\n",
      "146113           Padmavyuhathile Abhimanyu            130.0\n",
      "146126        9/11: Escape from the Towers            120.0\n",
      "146128                 The War of Godzilla            102.0\n",
      "146139                 Kuambil Lagi Hatiku            123.0\n",
      "146142                              6 Gunn            116.0\n",
      "\n",
      "[25757 rows x 2 columns] \n",
      "\n",
      "MID RUNTIME MOVIES, BETWEEN 60 & 100 MINUTES \n",
      "                                      primary_title  runtime_minutes\n",
      "3                                   Sabse Bada Sukh             87.0\n",
      "4                          The Wandering Soap Opera             80.0\n",
      "5                                       A Thin Life             75.0\n",
      "6                                           Bigfoot             87.0\n",
      "7                                   Joe Finds Grace             83.0\n",
      "...                                             ...              ...\n",
      "146137                                    Safeguard             90.0\n",
      "146138                          The Secret of China             87.0\n",
      "146140  Rodolpho Teóphilo - O Legado de um Pioneiro             87.0\n",
      "146141                              Dankyavar Danka             87.0\n",
      "146143               Chico Albuquerque - Revelações             87.0\n",
      "\n",
      "[101201 rows x 2 columns]\n"
     ]
    }
   ],
   "source": [
    "# Movies with short,long and mid length runtimes\n",
    "short_movies = imdb_title_basics[imdb_title_basics['runtime_minutes'] < 60] #for short movies below 60 min but not including 60\n",
    "\n",
    "long_movies = imdb_title_basics[imdb_title_basics['runtime_minutes'] > 100]# for long movies above 100 min but not including 100\n",
    "\n",
    "mid_runtime_movies = imdb_title_basics[(imdb_title_basics['runtime_minutes'] >=60) & (imdb_title_basics['runtime_minutes'] <=100)]\n",
    "#this are for movies between runtime minutes of 60 and 100\n",
    "\n",
    "print(\"SHORT MOVIES, 60 MINUTES & BELOW:\")\n",
    "print(short_movies[['primary_title', 'runtime_minutes']],\"\\n\")\n",
    "\n",
    "print(\"LONG MOVIES, 100 MINUTES & ABOVE:\")\n",
    "print(long_movies[['primary_title', 'runtime_minutes']], \"\\n\")\n",
    "\n",
    "print(\"MID RUNTIME MOVIES, BETWEEN 60 & 100 MINUTES \")\n",
    "print(mid_runtime_movies[[ 'primary_title', 'runtime_minutes']])\n"
   ]
  },
  {
   "cell_type": "markdown",
   "metadata": {},
   "source": [
    "### Short movies histogram"
   ]
  },
  {
   "cell_type": "code",
   "execution_count": 18,
   "metadata": {},
   "outputs": [
    {
     "data": {
      "text/plain": [
       "Text(0.5, 1.0, 'Distribution of short movies runtime')"
      ]
     },
     "execution_count": 18,
     "metadata": {},
     "output_type": "execute_result"
    },
    {
     "data": {
      "image/png": "[encoded data removed]",
      "text/plain": [
       "<Figure size 864x432 with 1 Axes>"
      ]
     },
     "metadata": {
      "needs_background": "light"
     },
     "output_type": "display_data"
    }
   ],
   "source": [
    "# Short movies histogram\n",
    "plt.figure(figsize=(12, 6))\n",
    "plt.hist(short_movies['runtime_minutes'], label='Short Movies', color = 'pink')\n",
    "plt.xlabel('runtime', fontweight = 'bold')\n",
    "plt.ylabel('No. of movies', fontweight = 'bold')\n",
    "plt.title('Distribution of short movies runtime', fontweight = 'bold', fontsize = 17)"
   ]
  },
  {
   "cell_type": "markdown",
   "metadata": {},
   "source": [
    "The chart displays a spike, between the 50 to 60 minute mark implying that many short films fall within this time frame. Conversely there is a scarcity of movies lasting than 30 minutes hinting that shorter films usually exceed this duration"
   ]
  },
  {
   "cell_type": "markdown",
   "metadata": {},
   "source": [
    "### Long movies histogram"
   ]
  },
  {
   "cell_type": "code",
   "execution_count": 19,
   "metadata": {},
   "outputs": [
    {
     "data": {
      "text/plain": [
       "Text(0.5, 1.0, 'Distribution of long movies runtime')"
      ]
     },
     "execution_count": 19,
     "metadata": {},
     "output_type": "execute_result"
    },
    {
     "data": {
      "image/png": "[encoded data removed]",
      "text/plain": [
       "<Figure size 864x432 with 1 Axes>"
      ]
     },
     "metadata": {
      "needs_background": "light"
     },
     "output_type": "display_data"
    }
   ],
   "source": [
    "plt.figure(figsize=(12, 6))\n",
    "plt.hist(long_movies['runtime_minutes'], bins=range(0, 200, 10), label='Long Movies', color = 'orange')\n",
    "plt.xlabel('runtime', fontweight = 'bold')\n",
    "plt.ylabel('No of movies', fontweight = 'bold')\n",
    "plt.title('Distribution of long movies runtime', fontweight = 'bold', fontsize = 17)\n"
   ]
  },
  {
   "cell_type": "markdown",
   "metadata": {},
   "source": [
    "Movies tend to cluster around the 90 to 100-minute mark, which seems to be the sweet spot for longer films.After that, you see fewer and fewer movies as the runtime stretches on. Looks like filmmakers aren't too keen on keeping audiences in their seats for ages!"
   ]
  },
  {
   "cell_type": "markdown",
   "metadata": {},
   "source": [
    "### Mid-length movies histogram"
   ]
  },
  {
   "cell_type": "code",
   "execution_count": 20,
   "metadata": {},
   "outputs": [
    {
     "data": {
      "text/plain": [
       "Text(0.5, 1.0, 'Distribution of mid-length movie runtimes')"
      ]
     },
     "execution_count": 20,
     "metadata": {},
     "output_type": "execute_result"
    },
    {
     "data": {
      "image/png": "[encoded data removed]",
      "text/plain": [
       "<Figure size 864x432 with 1 Axes>"
      ]
     },
     "metadata": {
      "needs_background": "light"
     },
     "output_type": "display_data"
    }
   ],
   "source": [
    "# mid lenght movies histogram\n",
    "plt.figure(figsize=(12, 6))\n",
    "plt.hist(mid_runtime_movies['runtime_minutes'], label='mid runtime movies', color = 'green', alpha = 0.7)\n",
    "# 'alpha' often refers to the opacity level of the plotted elements/ color\n",
    "plt.xlabel('runtime', fontweight = 'bold')\n",
    "plt.ylabel('No. of movies', fontweight = 'bold')\n",
    "plt.title('Distribution of mid-length movie runtimes', fontweight = 'bold', fontsize = 17)"
   ]
  },
  {
   "cell_type": "markdown",
   "metadata": {},
   "source": [
    "The histogram indicates that movies of length (, with durations falling between 60 and 100 minutes) tend to be 85 minutes long most often. This pattern implies that films of this duration are popular which could be due, to industry standards or audience preference."
   ]
  },
  {
   "cell_type": "markdown",
   "metadata": {},
   "source": [
    "### Histogram to understand the distribution of data"
   ]
  },
  {
   "cell_type": "code",
   "execution_count": 21,
   "metadata": {},
   "outputs": [
    {
     "data": {
      "image/png": "[encoded data removed]",
      "text/plain": [
       "<Figure size 432x288 with 1 Axes>"
      ]
     },
     "metadata": {
      "needs_background": "light"
     },
     "output_type": "display_data"
    },
    {
     "data": {
      "image/png": "[encoded data removed]",
      "text/plain": [
       "<Figure size 432x288 with 1 Axes>"
      ]
     },
     "metadata": {
      "needs_background": "light"
     },
     "output_type": "display_data"
    }
   ],
   "source": [
    "for i in imdb_title_basics.select_dtypes(include=\"number\").columns:\n",
    "    sns.histplot(data = imdb_title_basics, x = i, bins = 50)\n",
    "    plt.title(f\"Histogram of {i}\", fontweight= 'bold', fontsize = 17)\n",
    "    plt.show()"
   ]
  },
  {
   "cell_type": "markdown",
   "metadata": {},
   "source": [
    "### Check the Data Distribution"
   ]
  },
  {
   "cell_type": "code",
   "execution_count": 22,
   "metadata": {},
   "outputs": [
    {
     "name": "stdout",
     "output_type": "stream",
     "text": [
      "count    146144.000000\n",
      "mean       2014.621798\n",
      "std           2.733583\n",
      "min        2010.000000\n",
      "25%        2012.000000\n",
      "50%        2015.000000\n",
      "75%        2017.000000\n",
      "max        2115.000000\n",
      "Name: start_year, dtype: float64 \n",
      "\n",
      "count    146144.000000\n",
      "mean         86.363758\n",
      "std         147.191650\n",
      "min           1.000000\n",
      "25%          75.000000\n",
      "50%          87.000000\n",
      "75%          95.000000\n",
      "max       51420.000000\n",
      "Name: runtime_minutes, dtype: float64 \n",
      "\n"
     ]
    }
   ],
   "source": [
    "for columns in imdb_title_basics.select_dtypes(include=\"number\").columns:\n",
    "    print(imdb_title_basics[columns].describe(), \"\\n\")\n"
   ]
  },
  {
   "cell_type": "markdown",
   "metadata": {},
   "source": [
    "### Boxplot to identify the outliers :"
   ]
  },
  {
   "cell_type": "code",
   "execution_count": 23,
   "metadata": {},
   "outputs": [
    {
     "data": {
      "image/png": "[encoded data removed]",
      "text/plain": [
       "<Figure size 432x288 with 1 Axes>"
      ]
     },
     "metadata": {
      "needs_background": "light"
     },
     "output_type": "display_data"
    },
    {
     "data": {
      "image/png": "[encoded data removed]",
      "text/plain": [
       "<Figure size 432x288 with 1 Axes>"
      ]
     },
     "metadata": {
      "needs_background": "light"
     },
     "output_type": "display_data"
    }
   ],
   "source": [
    "for i in imdb_title_basics.select_dtypes(include=\"number\").columns: #this plots only from columns that has numbers\n",
    "    sns.boxplot(data = imdb_title_basics, x = i, color = 'yellow') \n",
    "    plt.title(f\"boxplot of {i}\", fontweight = 'bold' , fontsize = 17)\n",
    "    plt.show()"
   ]
  },
  {
   "cell_type": "markdown",
   "metadata": {},
   "source": [
    "### Bar gragph to understand the movie genre distribution"
   ]
  },
  {
   "cell_type": "code",
   "execution_count": 24,
   "metadata": {},
   "outputs": [
    {
     "data": {
      "image/png": "[encoded data removed]",
      "text/plain": [
       "<Figure size 864x432 with 1 Axes>"
      ]
     },
     "metadata": {
      "needs_background": "light"
     },
     "output_type": "display_data"
    }
   ],
   "source": [
    "# start of by Spliting the 'genres' column into rows\n",
    "# this includes the genre that were grouped together (action,thriller,adult) after spliting, they will be individual raws\n",
    "# eg.1.action\n",
    "#    2.thriller\n",
    "#    3.adult\n",
    "# for this to happen, .explode() is used and assigned a parameter \"genre\". \n",
    "# Spliting the \"genres\" column into rows\n",
    "imdb_title_basics_genres = imdb_title_basics.assign(genres=imdb_title_basics['genres'].str.split(',')).explode('genres')\n",
    "\n",
    "# Counting the number of movies in each genre\n",
    "movie_genre_counts = imdb_title_basics_genres['genres'].value_counts()\n",
    "\n",
    "plt.figure(figsize=(12, 6))\n",
    "sns.barplot(x=movie_genre_counts.index, y=movie_genre_counts.values)\n",
    "plt.title('Movie Genre Distribution', fontweight = 'bold', fontsize = 17)\n",
    "plt.xticks(rotation=90)\n",
    "plt.xlabel('Genre', fontweight = 'bold')\n",
    "plt.ylabel('Count', fontweight = 'bold')\n",
    "plt.show()"
   ]
  },
  {
   "cell_type": "markdown",
   "metadata": {},
   "source": [
    "Documentaries take the lead with, over 50,000 movies making it the popular genre. Following behind is Drama with a number of films in its category. Comedy also holds a presence although not as abundant as drama. The chart showcases a range of genres like thriller, action, romance, biography, adventure, history, mystery, fantasy, animation and more each, with decreasing numbers of movies."
   ]
  },
  {
   "cell_type": "markdown",
   "metadata": {},
   "source": [
    "### Line graph showing nmber of movies released over time"
   ]
  },
  {
   "cell_type": "code",
   "execution_count": 25,
   "metadata": {},
   "outputs": [
    {
     "data": {
      "image/png": "[encoded data removed]",
      "text/plain": [
       "<Figure size 720x432 with 1 Axes>"
      ]
     },
     "metadata": {
      "needs_background": "light"
     },
     "output_type": "display_data"
    }
   ],
   "source": [
    "yearly_counts = imdb_title_basics['start_year'].value_counts().sort_index()\n",
    "# .value_counts() - counts how many times each unique year appears in the start_year column.\n",
    "# .sort_index()  - this sorts the years in order.it sorts them in ascending order (from the oldest to the newest).\n",
    "plt.figure(figsize=(10, 6))\n",
    "sns.lineplot(x=yearly_counts.index, y=yearly_counts.values, color ='purple')\n",
    "plt.title('Number of Movies Released Over Time', fontsize = 17, fontweight = 'bold')\n",
    "plt.xlabel('Year', fontweight = 'bold')\n",
    "plt.ylabel('No. of Movies', fontweight = 'bold')\n",
    "plt.show()"
   ]
  },
  {
   "cell_type": "markdown",
   "metadata": {},
   "source": [
    "The number of films released in 2020 increased significantly. However, following this peak, there was a decline, indicating a decrease in movie releases in the following years."
   ]
  },
  {
   "cell_type": "markdown",
   "metadata": {},
   "source": [
    "### Correlation between year and runtime"
   ]
  },
  {
   "cell_type": "code",
   "execution_count": 26,
   "metadata": {},
   "outputs": [
    {
     "data": {
      "image/png": "[encoded data removed]",
      "text/plain": [
       "<Figure size 432x432 with 1 Axes>"
      ]
     },
     "metadata": {
      "needs_background": "light"
     },
     "output_type": "display_data"
    }
   ],
   "source": [
    "plt.figure(figsize=(6, 6))\n",
    "sns.scatterplot(x=imdb_title_basics['start_year'], y=imdb_title_basics['runtime_minutes'], color = 'red')\n",
    "plt.title('Year & Runtime', fontsize = 17, fontweight = 'bold')\n",
    "plt.xlabel('Year', fontweight = 'bold')\n",
    "plt.ylabel('Runtime in minutes', fontweight = 'bold')\n",
    "plt.show()"
   ]
  },
  {
   "cell_type": "markdown",
   "metadata": {},
   "source": [
    "The scatter plot does a job of showing how movie lengths vary over the years especially pointing out the prescence of outliers movies that're much longer, than usual."
   ]
  },
  {
   "cell_type": "markdown",
   "metadata": {},
   "source": [
    "### Age of each movie"
   ]
  },
  {
   "cell_type": "code",
   "execution_count": 27,
   "metadata": {},
   "outputs": [
    {
     "name": "stdout",
     "output_type": "stream",
     "text": [
      "                                      primary_title  start_year  movie_age\n",
      "0                                         Sunghursh        2013         11\n",
      "1                   One Day Before the Rainy Season        2019          5\n",
      "2                        The Other Side of the Wind        2018          6\n",
      "3                                   Sabse Bada Sukh        2018          6\n",
      "4                          The Wandering Soap Opera        2017          7\n",
      "...                                             ...         ...        ...\n",
      "146139                          Kuambil Lagi Hatiku        2019          5\n",
      "146140  Rodolpho Teóphilo - O Legado de um Pioneiro        2015          9\n",
      "146141                              Dankyavar Danka        2013         11\n",
      "146142                                       6 Gunn        2017          7\n",
      "146143               Chico Albuquerque - Revelações        2013         11\n",
      "\n",
      "[146144 rows x 3 columns]\n"
     ]
    }
   ],
   "source": [
    "import datetime\n",
    "\n",
    "currentyear = datetime.datetime.now().year\n",
    "\n",
    "imdb_title_basics[\"movie_age\"] = currentyear - imdb_title_basics[\"start_year\"]# acessing the start year column and subtracting\n",
    "# the current year from the year the movies were released\n",
    "\n",
    "print(imdb_title_basics[[\"primary_title\", \"start_year\", \"movie_age\"]])\n"
   ]
  },
  {
   "cell_type": "markdown",
   "metadata": {},
   "source": [
    "### Plotting the distribution of movies age in a pie chart"
   ]
  },
  {
   "cell_type": "code",
   "execution_count": 29,
   "metadata": {},
   "outputs": [
    {
     "data": {
      "image/png": "[encoded data removed]",
      "text/plain": [
       "<Figure size 648x648 with 1 Axes>"
      ]
     },
     "metadata": {},
     "output_type": "display_data"
    },
    {
     "name": "stdout",
     "output_type": "stream",
     "text": [
      "The total number of movies: 146144\n",
      "\n",
      "The number of movies in each category:\n",
      "Recent (5-10 years): 76247\n",
      "Modern (10-20 years): 68834\n",
      "New release (< 5 years): 1063\n"
     ]
    }
   ],
   "source": [
    "# start by creating age categories \n",
    "def age_category(Age):\n",
    "    \n",
    "    if Age < 5:\n",
    "        return \"New release (< 5 years)\"\n",
    "    \n",
    "    elif Age < 10:\n",
    "        return \"Recent (5-10 years)\"\n",
    "    \n",
    "    elif Age < 20:\n",
    "        return \"Modern (10-20 years)\"\n",
    "    \n",
    "    else:\n",
    "        return \"Vintage (50+ years)\"\n",
    "    \n",
    "\n",
    "imdb_title_basics[\"age_category\"] = imdb_title_basics[\"movie_age\"].apply(age_category)\n",
    "\n",
    "# Count movies in each category\n",
    "age_distribution = imdb_title_basics[\"age_category\"].value_counts()\n",
    "# ploting the pie chart\n",
    "plt.figure(figsize = (9, 9))\n",
    "plt.pie(age_distribution.values, labels=age_distribution.index, autopct='%1.1f%%')\n",
    "plt.title(\"Pie chart showing the distribution of movies by Age Category\", fontweight='bold',  fontsize = 17)\n",
    "plt.tight_layout()\n",
    "plt.show()\n",
    "\n",
    "#aditional information \n",
    "print(f\"The total number of movies: {len(imdb_title_basics)}\")\n",
    "print(\"\\nThe number of movies in each category:\")\n",
    "for category, count in age_distribution.items():\n",
    "    print(f\"{category}: {count}\")"
   ]
  },
  {
   "cell_type": "markdown",
   "metadata": {},
   "source": [
    "The pie chart shows that most films are categorized as \"Recent\" or \"Modern,\" with a number falling under the label of \"New releases\""
   ]
  },
  {
   "cell_type": "markdown",
   "metadata": {},
   "source": [
    "### Findings\n",
    "\n",
    "1. The majority of short movies have runtimes between 40 and 60 minutes, with the highest concentration in the 50-55 minute range. Out of 19,186 short films under 60 minutes, this duration bracket dominates viewership.\n",
    "\n",
    "2. Of the 25,757 long movies with runtimes of 100 minutes or more, the majority fall within the 100-125 minute range. This duration bracket represents the most common length for feature films in this category.\n",
    "\n",
    "3. The dataset contains 100,201 mid-length movies, with runtimes between 60 and 100 minutes. Within this category, the most common duration falls in the 85-90 minute range.\n",
    "\n",
    "4. For instance, majority of the movies have a runtime within 90 & 120 minutes range.\n",
    "\n",
    "5. In the world of films documentaries take the lead with, over 50,000 movies making it the popular genre. Following behind is drama with a number of films in its category. Comedy also holds a presence although not as much as drama. The chart showcases a range of genres like thriller, action, romance, biography, adventure, history, mystery, fantasy, animation and more each, with decreasing numbers of movies."
   ]
  },
  {
   "cell_type": "markdown",
   "metadata": {},
   "source": [
    "### Insights & Recommendation\n",
    "\n",
    "After analyzing the results here are a takeaways and practical recommendations.\n",
    "\n",
    "1. it's evident that audiences have a preference, for documentaries, dramas and comedies. These movie genres are gaining increasing popularity compared to others. If Microsoft is contemplating creating a film it may want to explore one of these categories. It might be wise to align with trends and offer viewers more of what they enjoy.\n",
    "\n",
    "2. In the past 10 years, there has been a rise, in the number of movies being released. It's important to expand production capabilities to keep up with the growth, in the industry.\n",
    "\n",
    "3. For instance the majority of films typically fall within the 90 to 120 minute range. It would be beneficial for Microsoft to focus on creating movies that fit within this timeframe to stay in line, with industry standards."
   ]
  },
  {
   "cell_type": "code",
   "execution_count": null,
   "metadata": {},
   "outputs": [],
   "source": []
  }
 ],
 "metadata": {
  "kernelspec": {
   "display_name": "Python 3",
   "language": "python",
   "name": "python3"
  },
  "language_info": {
   "codemirror_mode": {
    "name": "ipython",
    "version": 3
   },
   "file_extension": ".py",
   "mimetype": "text/x-python",
   "name": "python",
   "nbconvert_exporter": "python",
   "pygments_lexer": "ipython3",
   "version": "3.8.5"
  }
 },
 "nbformat": 4,
 "nbformat_minor": 2
}
